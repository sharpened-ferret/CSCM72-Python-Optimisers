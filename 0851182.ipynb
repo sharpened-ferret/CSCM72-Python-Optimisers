{
 "cells": [
  {
   "cell_type": "markdown",
   "metadata": {},
   "source": [
    "# CSCM72 Coursework 1: Python Optimisers\n",
    "\n",
    "Name: Neil Woodhouse<br>\n",
    "Student Number: 851182"
   ]
  },
  {
   "cell_type": "markdown",
   "metadata": {},
   "source": [
    "# Section 1: Function Implementation & Testing"
   ]
  },
  {
   "cell_type": "code",
   "execution_count": 13,
   "metadata": {},
   "outputs": [],
   "source": [
    "import numpy as np\n",
    "import math"
   ]
  },
  {
   "cell_type": "code",
   "execution_count": 38,
   "metadata": {},
   "outputs": [],
   "source": [
    "# Constants to improve readability\n",
    "HEIGHT = 0     #x1\n",
    "LENGTH = 1     #x2\n",
    "THICKNESS = 2  #x3\n",
    "BREADTH = 3    #x4\n",
    "\n",
    "# Store the default upper and lower bound for x1..x4 as defined in the specification\n",
    "DEFAULT_LOWER = np.array([0.125, 0.125, 0.1, 0.1])\n",
    "DEFAULT_UPPER = np.array([5.0, 5.0, 10.0, 10.0])"
   ]
  },
  {
   "cell_type": "markdown",
   "metadata": {},
   "source": [
    "## Constraint Function Execution Tracking\n",
    "The number of executions of each constraint function is tracked with a global variable. \n",
    "A function is included that prints the state of all these variables, to make checking them easier. "
   ]
  },
  {
   "cell_type": "code",
   "execution_count": 56,
   "metadata": {},
   "outputs": [],
   "source": [
    "# Counter Variables to track the number of time Constraint Functions have been executed\n",
    "g1_counter = 0\n",
    "g2_counter = 0\n",
    "g3_counter = 0\n",
    "g4_counter = 0\n",
    "\n",
    "# Prints how many times each constraint function has been executed\n",
    "def print_execution_trackers():\n",
    "    global g1_counter\n",
    "    global g2_counter\n",
    "    global g3_counter\n",
    "    global g4_counter\n",
    "    print(\n",
    "        \"Constraint function Execution counts: \\ng1: {}, g2: {}, g3: {}, g4: {}\".format(g1_counter, g2_counter, g3_counter, g4_counter)\n",
    "    )\n",
    "\n",
    "# Function to reset constraint function execution counters (unused, retained to make testing easier)\n",
    "def reset_execution_trackers():\n",
    "    global g1_counter \n",
    "    g1_counter = 0\n",
    "    global g2_counter \n",
    "    g2_counter = 0\n",
    "    global g3_counter \n",
    "    g3_counter = 0\n",
    "    global g4_counter \n",
    "    g4_counter = 0"
   ]
  },
  {
   "cell_type": "markdown",
   "metadata": {},
   "source": [
    "## Function Implementations\n",
    "\n",
    "This subsection defines the function implementations for the objective function and each of the constraint functions. "
   ]
  },
  {
   "cell_type": "markdown",
   "metadata": {},
   "source": [
    "### Objective Function *f(x)*:"
   ]
  },
  {
   "cell_type": "code",
   "execution_count": 16,
   "metadata": {},
   "outputs": [],
   "source": [
    "def objective_calc(design):\n",
    "    return ( 1.10471 * (design[HEIGHT] ** 2) * design[LENGTH]) + (0.04811 * design[THICKNESS] * design[BREADTH] * (14.0 + design[LENGTH]) )"
   ]
  },
  {
   "cell_type": "markdown",
   "metadata": {},
   "source": [
    "### Shear Stress *g<sub>1</sub>(x)*:"
   ]
  },
  {
   "cell_type": "code",
   "execution_count": 17,
   "metadata": {},
   "outputs": [],
   "source": [
    "def shear_stress(design):\n",
    "    # Calculates the first derivative\n",
    "    tau1 = 6000 / (math.sqrt(2) * design[HEIGHT] * design[LENGTH])\n",
    "\n",
    "    # Calculates the second derivative\n",
    "    tau2 = (6000 * (14 + 0.5 * design[LENGTH]) * math.sqrt(0.25 * (design[LENGTH]**2 + (design[HEIGHT] + design[THICKNESS])**2 ) ) )  \\\n",
    "                        / ( 2 * (0.707 * design[HEIGHT] * design[LENGTH] * ( ( (design[LENGTH] ** 2) / 12) + 0.25 * (design[HEIGHT] + design[THICKNESS])**2 ) ) )\n",
    "    \n",
    "    # Calculates the overall shear stress of the design\n",
    "    tau = math.sqrt( (tau1**2 + tau2**2) + ( (design[LENGTH] * tau1 * tau2) \\\n",
    "           / (math.sqrt(0.25*(design[LENGTH]**2 + (design[HEIGHT] + design[THICKNESS])**2))) ))\n",
    "\n",
    "    global g1_counter\n",
    "    g1_counter += 1\n",
    "    return 13600 - tau"
   ]
  },
  {
   "cell_type": "markdown",
   "metadata": {},
   "source": [
    "### Normal Stress *g<sub>2</sub>(x)*:"
   ]
  },
  {
   "cell_type": "code",
   "execution_count": 18,
   "metadata": {},
   "outputs": [],
   "source": [
    "def normal_stress(design):\n",
    "    # Calculates normal stress of the design\n",
    "    sigma = 504000 / (design[THICKNESS]**2 * design[BREADTH])\n",
    "\n",
    "    global g2_counter\n",
    "    g2_counter += 1\n",
    "    return (30000 - sigma)"
   ]
  },
  {
   "cell_type": "markdown",
   "metadata": {},
   "source": [
    "### Practicality *g<sub>3</sub>(x)*:"
   ]
  },
  {
   "cell_type": "code",
   "execution_count": 19,
   "metadata": {},
   "outputs": [],
   "source": [
    "def practicality(design):\n",
    "    global g3_counter\n",
    "    g3_counter += 1\n",
    "    return (design[BREADTH] - design[HEIGHT])"
   ]
  },
  {
   "cell_type": "markdown",
   "metadata": {},
   "source": [
    "### Buckling Load *g<sub>4</sub>(x)*:"
   ]
  },
  {
   "cell_type": "code",
   "execution_count": 20,
   "metadata": {},
   "outputs": [],
   "source": [
    "def buckling_load(design):\n",
    "    rho = 64746.022 * (1 - 0.0282346 * design[THICKNESS]) * design[THICKNESS] * design[BREADTH]**3\n",
    "\n",
    "    global g4_counter\n",
    "    g4_counter += 1\n",
    "    return (rho - 6000)"
   ]
  },
  {
   "cell_type": "markdown",
   "metadata": {},
   "source": [
    "## Function Validation:\n",
    "\n",
    "This section checks the validity of the constraint functions, using the example input design from the specification."
   ]
  },
  {
   "cell_type": "code",
   "execution_count": 21,
   "metadata": {},
   "outputs": [
    {
     "name": "stdout",
     "output_type": "stream",
     "text": [
      "Objective Function Output:  32.6024179859\n",
      "First constraint function output:  5308.848564674312\n",
      "Second constraint function output:  26736.764990548952\n",
      "Third constraint function output:  6.82\n",
      "Fourth constraint function output:  122317448.61430933\n"
     ]
    }
   ],
   "source": [
    "x = np.array([1.05, 3.15, 4.43, 7.87])\n",
    "\n",
    "print(\"Objective Function Output: \", objective_calc(x))\n",
    "print(\"First constraint function output: \", shear_stress(x))\n",
    "print(\"Second constraint function output: \", normal_stress(x))\n",
    "print(\"Third constraint function output: \", practicality(x))\n",
    "print(\"Fourth constraint function output: \", buckling_load(x))"
   ]
  },
  {
   "cell_type": "code",
   "execution_count": 22,
   "metadata": {},
   "outputs": [
    {
     "name": "stdout",
     "output_type": "stream",
     "text": [
      "Constraint function Execution counts: \n",
      "g1: 1, g2: 1, g3: 1, g4: 1\n"
     ]
    }
   ],
   "source": [
    "print_execution_trackers()"
   ]
  },
  {
   "cell_type": "markdown",
   "metadata": {},
   "source": [
    "# Section 2: Random Search"
   ]
  },
  {
   "cell_type": "markdown",
   "metadata": {},
   "source": [
    "This code defines a flexible random search that takes a system of any 4 parameters and 4 constraint functions and returns a system design that approximately minimises the objective value."
   ]
  },
  {
   "cell_type": "code",
   "execution_count": 98,
   "metadata": {},
   "outputs": [],
   "source": [
    "# This function performs random search optimisation using a given seed for number generation, and a given number of samples\n",
    "# Defaults to minimising the given objective function, but this can be changed to maximising by setting 'minimising' to false\n",
    "def random_search(seed, samples, lower, upper, objective, constraint1, constraint2, constraint3, constraint4, minimising=True):\n",
    "    # Initialises algorithm variables\n",
    "    best_design = None\n",
    "    objective_minimum = float('inf')\n",
    "    objective_maximum = float('-inf')\n",
    "\n",
    "    # Creates local random generator to isolate from seed changes in any other code\n",
    "    rng = np.random.default_rng(seed)\n",
    "\n",
    "    for i in range(samples):\n",
    "        curr_design = np.array([\n",
    "            rng.uniform(lower[0], upper[0]),\n",
    "            rng.uniform(lower[1], upper[1]),\n",
    "            rng.uniform(lower[2], upper[2]),\n",
    "            rng.uniform(lower[3], upper[3])\n",
    "            ])\n",
    "\n",
    "        # Combining the constraints in a single evalution reduces unnecessary execution, since after one constraint function returns false, the rest will not execute\n",
    "        if (constraint1(curr_design) >= 0) and (constraint2(curr_design) >= 0) and (constraint3(curr_design) >= 0) and (constraint4(curr_design) >= 0):\n",
    "            curr_result = objective(curr_design)\n",
    "            if minimising and curr_result < objective_minimum:\n",
    "                objective_minimum = curr_result\n",
    "                best_design = curr_design\n",
    "            if not minimising and curr_result > objective_maximum:\n",
    "                objective_maximum = curr_result\n",
    "                best_design = curr_design\n",
    "    if minimising:\n",
    "        return best_design, objective_minimum\n",
    "    else:\n",
    "        return best_design, objective_maximum"
   ]
  },
  {
   "cell_type": "markdown",
   "metadata": {},
   "source": [
    "The following section provides a wrapper function that runs a random search with the parameters from the specification."
   ]
  },
  {
   "cell_type": "code",
   "execution_count": 99,
   "metadata": {},
   "outputs": [],
   "source": [
    "def constrained_random_search(seed, samples):\n",
    "    return random_search(seed, samples, DEFAULT_LOWER, DEFAULT_UPPER, objective_calc, shear_stress, normal_stress, practicality, buckling_load)\n"
   ]
  },
  {
   "cell_type": "code",
   "execution_count": 101,
   "metadata": {},
   "outputs": [
    {
     "name": "stdout",
     "output_type": "stream",
     "text": [
      "Best Design: [4.91219271 4.93595545 9.41231517 9.31503612], with Value = 211.4477300135287\n",
      "Constraint function Execution counts: \n",
      "g1: 10000, g2: 7838, g3: 6353, g4: 4841\n",
      "Best Design: [0.52367905 2.67381647 7.43394281 0.56708869], with Value = 4.191789951308734\n",
      "Constraint function Execution counts: \n",
      "g1: 10000, g2: 7838, g3: 6353, g4: 4841\n"
     ]
    }
   ],
   "source": [
    "SEED = 18002\n",
    "\n",
    "reset_execution_trackers()\n",
    "print(\"Best Design: {0[0]}, with Value = {0[1]}\".format(random_search(SEED, 10000, DEFAULT_LOWER, DEFAULT_UPPER, objective_calc, shear_stress, normal_stress, practicality, buckling_load, False)))\n",
    "print_execution_trackers()\n",
    "reset_execution_trackers()\n",
    "print(\"Best Design: {0[0]}, with Value = {0[1]}\".format(constrained_random_search(SEED, 10000)))\n",
    "print_execution_trackers()\n"
   ]
  },
  {
   "cell_type": "markdown",
   "metadata": {},
   "source": [
    "# Section 3: Simulated Annealing"
   ]
  },
  {
   "cell_type": "code",
   "execution_count": 25,
   "metadata": {},
   "outputs": [],
   "source": [
    "def simulated_annealing(seed, samples):\n",
    "    # Initialises result variables\n",
    "    best_design = None\n",
    "    objective_min = float('inf')\n",
    "\n",
    "    rng = np.random.default_rng(seed)\n",
    "\n",
    "    for i in range(samples):\n",
    "        print(\"Unimplemented\")\n"
   ]
  }
 ],
 "metadata": {
  "kernelspec": {
   "display_name": "Python 3.10.0 64-bit",
   "language": "python",
   "name": "python3"
  },
  "language_info": {
   "codemirror_mode": {
    "name": "ipython",
    "version": 3
   },
   "file_extension": ".py",
   "mimetype": "text/x-python",
   "name": "python",
   "nbconvert_exporter": "python",
   "pygments_lexer": "ipython3",
   "version": "3.10.0"
  },
  "orig_nbformat": 4,
  "vscode": {
   "interpreter": {
    "hash": "8a91cadc413235d5a11ea792150f74c4489a7c2da9dcddc3b888b562aafcd7e7"
   }
  }
 },
 "nbformat": 4,
 "nbformat_minor": 2
}
