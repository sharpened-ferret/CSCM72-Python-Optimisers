{
 "cells": [
  {
   "cell_type": "markdown",
   "metadata": {},
   "source": [
    "# CSCM72 Coursework 1: Python Optimisers"
   ]
  },
  {
   "cell_type": "code",
   "execution_count": 25,
   "metadata": {},
   "outputs": [],
   "source": [
    "import numpy as np\n",
    "import math"
   ]
  },
  {
   "cell_type": "code",
   "execution_count": 26,
   "metadata": {},
   "outputs": [],
   "source": [
    "example_array = np.array([1,2,3,4])"
   ]
  },
  {
   "cell_type": "code",
   "execution_count": 27,
   "metadata": {},
   "outputs": [],
   "source": [
    "# Constants to improve readability\n",
    "HEIGHT = 0     #x1\n",
    "LENGTH = 1     #x2\n",
    "THICKNESS = 2  #x3\n",
    "BREADTH = 3    #x4"
   ]
  },
  {
   "cell_type": "markdown",
   "metadata": {},
   "source": [
    "### Objective Function *f(x)*:"
   ]
  },
  {
   "cell_type": "code",
   "execution_count": 28,
   "metadata": {},
   "outputs": [],
   "source": [
    "def objective_calc(design):\n",
    "    return ( 1.0471 * (design[HEIGHT] ** 2) * design[LENGTH]) + (0.04811 * design[THICKNESS] * design[BREADTH] * (14.0 + design[LENGTH]) )\n",
    "\n"
   ]
  },
  {
   "cell_type": "code",
   "execution_count": 29,
   "metadata": {},
   "outputs": [
    {
     "data": {
      "text/plain": [
       "11.331320000000002"
      ]
     },
     "execution_count": 29,
     "metadata": {},
     "output_type": "execute_result"
    }
   ],
   "source": [
    "objective_calc(example_array)"
   ]
  },
  {
   "cell_type": "markdown",
   "metadata": {},
   "source": [
    "### Shear Stress *g<sub>1</sub>(x)*:"
   ]
  },
  {
   "cell_type": "code",
   "execution_count": 43,
   "metadata": {},
   "outputs": [],
   "source": [
    "def shear_stress(design):\n",
    "    # Calculates the first derivative\n",
    "    tau1 = 6000 / (math.sqrt(2) * design[HEIGHT] * design[LENGTH])\n",
    "\n",
    "    # Calculates the second derivative\n",
    "    tau2 = (6000 * (14 + 0.5 * design[LENGTH]) * math.sqrt(0.25 * ((design[LENGTH] ** 2) + (design[HEIGHT] + design[THICKNESS]) ** 2 ) ) )  \\\n",
    "                        / ( 2 * (0.707 * design[HEIGHT] * design[LENGTH] * ( ( (design[LENGTH] ** 2) / 12) + 0.25 * (design[HEIGHT] + design[THICKNESS]) ) ) )\n",
    "    \n",
    "    # Calculates the shear stress of the design\n",
    "    tau = math.sqrt( (tau1 ** 2 + tau2 ** 2) + ( (design[LENGTH] * tau1 * tau2) \\\n",
    "           / (math.sqrt(0.25*(design[LENGTH]**2 + (design[HEIGHT] + design[THICKNESS])**2))) ))\n",
    "\n",
    "    # Returns false if shear stress exceeds 13,600psi target\n",
    "    return (13600 - tau) >= 0"
   ]
  },
  {
   "cell_type": "code",
   "execution_count": 44,
   "metadata": {},
   "outputs": [
    {
     "data": {
      "text/plain": [
       "False"
      ]
     },
     "execution_count": 44,
     "metadata": {},
     "output_type": "execute_result"
    }
   ],
   "source": [
    "shear_stress(example_array)"
   ]
  },
  {
   "cell_type": "markdown",
   "metadata": {},
   "source": [
    "### Normal Stress *g<sub>2</sub>(x)*:"
   ]
  },
  {
   "cell_type": "code",
   "execution_count": 45,
   "metadata": {},
   "outputs": [],
   "source": [
    "def normal_stress(design):\n",
    "    # Calculates normal stress of the design\n",
    "    sigma = 504000 / (design[THICKNESS]**2 * design[BREADTH])\n",
    "\n",
    "    # Returns false if normal stress exceeds the target yield strength (30,000psi)\n",
    "    return (30000 - sigma) >= 0"
   ]
  },
  {
   "cell_type": "code",
   "execution_count": null,
   "metadata": {},
   "outputs": [],
   "source": [
    "normal_stress(example_array)"
   ]
  }
 ],
 "metadata": {
  "kernelspec": {
   "display_name": "Python 3.10.0 64-bit",
   "language": "python",
   "name": "python3"
  },
  "language_info": {
   "codemirror_mode": {
    "name": "ipython",
    "version": 3
   },
   "file_extension": ".py",
   "mimetype": "text/x-python",
   "name": "python",
   "nbconvert_exporter": "python",
   "pygments_lexer": "ipython3",
   "version": "3.10.0"
  },
  "orig_nbformat": 4,
  "vscode": {
   "interpreter": {
    "hash": "8a91cadc413235d5a11ea792150f74c4489a7c2da9dcddc3b888b562aafcd7e7"
   }
  }
 },
 "nbformat": 4,
 "nbformat_minor": 2
}
