{
 "cells": [
  {
   "cell_type": "markdown",
   "metadata": {},
   "source": [
    "# CSCM72 Coursework 1: Python Optimisers"
   ]
  },
  {
   "cell_type": "markdown",
   "metadata": {},
   "source": [
    "# Section 1: Function Implementation & Testing"
   ]
  },
  {
   "cell_type": "code",
   "execution_count": 2,
   "metadata": {},
   "outputs": [],
   "source": [
    "import numpy as np\n",
    "import math"
   ]
  },
  {
   "cell_type": "code",
   "execution_count": 3,
   "metadata": {},
   "outputs": [],
   "source": [
    "# Constants to improve readability\n",
    "HEIGHT = 0     #x1\n",
    "LENGTH = 1     #x2\n",
    "THICKNESS = 2  #x3\n",
    "BREADTH = 3    #x4"
   ]
  },
  {
   "cell_type": "code",
   "execution_count": 27,
   "metadata": {},
   "outputs": [],
   "source": [
    "# Counter Variables to track the number of time Constraint Functions have been executed\n",
    "g1_counter = 0\n",
    "g2_counter = 0\n",
    "g3_counter = 0\n",
    "g4_counter = 0\n",
    "\n",
    "def print_execution_trackers():\n",
    "    global g1_counter\n",
    "    global g2_counter\n",
    "    global g3_counter\n",
    "    global g4_counter\n",
    "    print(\n",
    "        \"Constraint function Execution counts: \\ng1: {}, g2: {}, g3: {}, g4: {}\".format(g1_counter, g2_counter, g3_counter, g4_counter)\n",
    "    )"
   ]
  },
  {
   "cell_type": "markdown",
   "metadata": {},
   "source": [
    "## Function Implementations"
   ]
  },
  {
   "cell_type": "markdown",
   "metadata": {},
   "source": [
    "### Objective Function *f(x)*:"
   ]
  },
  {
   "cell_type": "code",
   "execution_count": 5,
   "metadata": {},
   "outputs": [],
   "source": [
    "def objective_calc(design):\n",
    "    return ( 1.10471 * (design[HEIGHT] ** 2) * design[LENGTH]) + (0.04811 * design[THICKNESS] * design[BREADTH] * (14.0 + design[LENGTH]) )"
   ]
  },
  {
   "cell_type": "markdown",
   "metadata": {},
   "source": [
    "### Shear Stress *g<sub>1</sub>(x)*:"
   ]
  },
  {
   "cell_type": "code",
   "execution_count": 6,
   "metadata": {},
   "outputs": [],
   "source": [
    "def shear_stress(design):\n",
    "    # Calculates the first derivative\n",
    "    tau1 = 6000 / (math.sqrt(2) * design[HEIGHT] * design[LENGTH])\n",
    "\n",
    "    # Calculates the second derivative\n",
    "    tau2 = (6000 * (14 + 0.5 * design[LENGTH]) * math.sqrt(0.25 * (design[LENGTH]**2 + (design[HEIGHT] + design[THICKNESS])**2 ) ) )  \\\n",
    "                        / ( 2 * (0.707 * design[HEIGHT] * design[LENGTH] * ( ( (design[LENGTH] ** 2) / 12) + 0.25 * (design[HEIGHT] + design[THICKNESS])**2 ) ) )\n",
    "    \n",
    "    # Calculates the overall shear stress of the design\n",
    "    tau = math.sqrt( (tau1**2 + tau2**2) + ( (design[LENGTH] * tau1 * tau2) \\\n",
    "           / (math.sqrt(0.25*(design[LENGTH]**2 + (design[HEIGHT] + design[THICKNESS])**2))) ))\n",
    "\n",
    "    global g1_counter\n",
    "    g1_counter += 1\n",
    "    return 13600 - tau"
   ]
  },
  {
   "cell_type": "markdown",
   "metadata": {},
   "source": [
    "### Normal Stress *g<sub>2</sub>(x)*:"
   ]
  },
  {
   "cell_type": "code",
   "execution_count": 7,
   "metadata": {},
   "outputs": [],
   "source": [
    "def normal_stress(design):\n",
    "    # Calculates normal stress of the design\n",
    "    sigma = 504000 / (design[THICKNESS]**2 * design[BREADTH])\n",
    "\n",
    "    global g2_counter\n",
    "    g2_counter += 1\n",
    "    return (30000 - sigma)"
   ]
  },
  {
   "cell_type": "markdown",
   "metadata": {},
   "source": [
    "### Practicality *g<sub>3</sub>(x)*:"
   ]
  },
  {
   "cell_type": "code",
   "execution_count": 8,
   "metadata": {},
   "outputs": [],
   "source": [
    "def practicality(design):\n",
    "    global g3_counter\n",
    "    g3_counter += 1\n",
    "    return (design[BREADTH] - design[HEIGHT])"
   ]
  },
  {
   "cell_type": "markdown",
   "metadata": {},
   "source": [
    "### Buckling Load *g<sub>4</sub>(x)*:"
   ]
  },
  {
   "cell_type": "code",
   "execution_count": 9,
   "metadata": {},
   "outputs": [],
   "source": [
    "def buckling_load(design):\n",
    "    rho = 64746.022 * (1 - 0.0282346 * design[THICKNESS]) * design[THICKNESS] * design[BREADTH]**3\n",
    "\n",
    "    global g4_counter\n",
    "    g4_counter += 1\n",
    "    return (rho - 6000)"
   ]
  },
  {
   "cell_type": "markdown",
   "metadata": {},
   "source": [
    "## Function Validation:"
   ]
  },
  {
   "cell_type": "code",
   "execution_count": 10,
   "metadata": {},
   "outputs": [
    {
     "name": "stdout",
     "output_type": "stream",
     "text": [
      "Objective Function Output:  32.6024179859\n",
      "First constraint function output:  5308.848564674312\n",
      "Second constraint function output:  26736.764990548952\n",
      "Third constraint function output:  6.82\n",
      "Fourth constraint function output:  122317448.61430933\n"
     ]
    }
   ],
   "source": [
    "x = np.array([1.05, 3.15, 4.43, 7.87])\n",
    "\n",
    "print(\"Objective Function Output: \", objective_calc(x))\n",
    "print(\"First constraint function output: \", shear_stress(x))\n",
    "print(\"Second constraint function output: \", normal_stress(x))\n",
    "print(\"Third constraint function output: \", practicality(x))\n",
    "print(\"Fourth constraint function output: \", buckling_load(x))"
   ]
  },
  {
   "cell_type": "code",
   "execution_count": 11,
   "metadata": {},
   "outputs": [
    {
     "name": "stdout",
     "output_type": "stream",
     "text": [
      "Execution counters: g1 = 1, g2 = 1, g3 = 1, g4 = 1\n"
     ]
    }
   ],
   "source": [
    "print(\"Execution counters: g1 = {}, g2 = {}, g3 = {}, g4 = {}\".format(g1_counter, g2_counter, g3_counter, g4_counter))"
   ]
  },
  {
   "cell_type": "markdown",
   "metadata": {},
   "source": [
    "# Section 2: Random Search"
   ]
  },
  {
   "cell_type": "code",
   "execution_count": 24,
   "metadata": {},
   "outputs": [],
   "source": [
    "# This function performs random search optimisation using a given seed for number generation\n",
    "def random_search(seed, repeats):\n",
    "    # Initialises algorithm variables\n",
    "    best_design = None\n",
    "    objective_minimum = float('inf')\n",
    "\n",
    "    # Creates local random generator to isolate from seed changes in any other code\n",
    "    rng = np.random.default_rng(seed)\n",
    "\n",
    "    for i in range(repeats):\n",
    "        x1 = rng.uniform(0.125, 5.0)\n",
    "        x2 = rng.uniform(0.125, 5.0)\n",
    "        x3 = rng.uniform(0.1, 10.0)\n",
    "        x4 = rng.uniform(0.1, 10.0)\n",
    "\n",
    "        curr_design = np.array([x1, x2, x3, x4])\n",
    "\n",
    "        if (shear_stress(curr_design) >= 0) and (normal_stress(curr_design) >= 0) and (practicality(curr_design) >= 0) and (buckling_load(curr_design) >= 0):\n",
    "            curr_result = objective_calc(curr_design)\n",
    "            if curr_result < objective_minimum:\n",
    "                objective_minimum = curr_result\n",
    "                best_design = curr_design\n",
    "    print(\"Best Design: {}, with Objective Value: {}\".format(best_design, objective_minimum))"
   ]
  },
  {
   "cell_type": "code",
   "execution_count": 28,
   "metadata": {},
   "outputs": [
    {
     "name": "stdout",
     "output_type": "stream",
     "text": [
      "Best Design: [0.73546113 2.47576191 5.83365327 0.74235623], with Objective Value: 4.9120533830155555\n",
      "Best Design: [0.52367905 2.67381647 7.43394281 0.56708869], with Objective Value: 4.191789951308734\n",
      "Constraint function Execution counts: \n",
      "g1: 20000, g2: 15716, g3: 12749, g4: 9816\n"
     ]
    }
   ],
   "source": [
    "random_search(21, 10000)\n",
    "random_search(18002, 10000)\n",
    "\n",
    "print_execution_trackers()"
   ]
  }
 ],
 "metadata": {
  "kernelspec": {
   "display_name": "Python 3.10.0 64-bit",
   "language": "python",
   "name": "python3"
  },
  "language_info": {
   "codemirror_mode": {
    "name": "ipython",
    "version": 3
   },
   "file_extension": ".py",
   "mimetype": "text/x-python",
   "name": "python",
   "nbconvert_exporter": "python",
   "pygments_lexer": "ipython3",
   "version": "3.10.0"
  },
  "orig_nbformat": 4,
  "vscode": {
   "interpreter": {
    "hash": "8a91cadc413235d5a11ea792150f74c4489a7c2da9dcddc3b888b562aafcd7e7"
   }
  }
 },
 "nbformat": 4,
 "nbformat_minor": 2
}
