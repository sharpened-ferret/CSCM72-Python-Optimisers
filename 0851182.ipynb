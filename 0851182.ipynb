{
 "cells": [
  {
   "cell_type": "markdown",
   "metadata": {},
   "source": [
    "# CSCM72 Coursework 1: Python Optimisers\n",
    "\n",
    "Name: Neil Woodhouse<br>\n",
    "Student Number: 851182"
   ]
  },
  {
   "cell_type": "markdown",
   "metadata": {},
   "source": [
    "# Section 1: Function Implementation & Testing"
   ]
  },
  {
   "cell_type": "code",
   "execution_count": 260,
   "metadata": {},
   "outputs": [],
   "source": [
    "import numpy as np\n",
    "import matplotlib.pyplot as plt\n",
    "import math\n",
    "from scipy.stats import truncnorm"
   ]
  },
  {
   "cell_type": "code",
   "execution_count": 261,
   "metadata": {},
   "outputs": [],
   "source": [
    "# Constants to improve readability\n",
    "HEIGHT = 0     #x1\n",
    "LENGTH = 1     #x2\n",
    "THICKNESS = 2  #x3\n",
    "BREADTH = 3    #x4\n",
    "\n",
    "# Store the default upper and lower bound for x1..x4 as defined in the specification\n",
    "DEFAULT_LOWER = np.array([0.125, 0.125, 0.1, 0.1])\n",
    "DEFAULT_UPPER = np.array([5.0, 5.0, 10.0, 10.0])"
   ]
  },
  {
   "cell_type": "markdown",
   "metadata": {},
   "source": [
    "## Constraint Function Execution Tracking\n",
    "The number of executions of each constraint function is tracked with a global variable. \n",
    "A function is included that prints the state of all these variables, to make checking them easier. "
   ]
  },
  {
   "cell_type": "code",
   "execution_count": 262,
   "metadata": {},
   "outputs": [],
   "source": [
    "# Counter Variables to track the number of time Constraint Functions have been executed\n",
    "f_counter = 0\n",
    "g1_counter = 0\n",
    "g2_counter = 0\n",
    "g3_counter = 0\n",
    "g4_counter = 0\n",
    "\n",
    "# Prints how many times each constraint function has been executed\n",
    "def print_execution_trackers():\n",
    "    global f_counter\n",
    "    global g1_counter\n",
    "    global g2_counter\n",
    "    global g3_counter\n",
    "    global g4_counter\n",
    "    print(\n",
    "        \"Constraint function Execution counts: \\nf: {}, g1: {}, g2: {}, g3: {}, g4: {}\".format(f_counter, g1_counter, g2_counter, g3_counter, g4_counter)\n",
    "    )"
   ]
  },
  {
   "cell_type": "markdown",
   "metadata": {},
   "source": [
    "## Function Implementations\n",
    "\n",
    "This subsection defines the function implementations for the objective function and each of the constraint functions. "
   ]
  },
  {
   "cell_type": "markdown",
   "metadata": {},
   "source": [
    "### Objective Function *f(x)*:"
   ]
  },
  {
   "cell_type": "code",
   "execution_count": 263,
   "metadata": {},
   "outputs": [],
   "source": [
    "def objective_calc(design):\n",
    "    global f_counter\n",
    "    f_counter += 1\n",
    "    return ( 1.10471 * (design[HEIGHT] ** 2) * design[LENGTH]) + (0.04811 * design[THICKNESS] * design[BREADTH] * (14.0 + design[LENGTH]) )"
   ]
  },
  {
   "cell_type": "markdown",
   "metadata": {},
   "source": [
    "### Shear Stress *g<sub>1</sub>(x)*:"
   ]
  },
  {
   "cell_type": "code",
   "execution_count": 264,
   "metadata": {},
   "outputs": [],
   "source": [
    "def shear_stress(design):\n",
    "    # Calculates the first derivative\n",
    "    tau1 = 6000 / (math.sqrt(2) * design[HEIGHT] * design[LENGTH])\n",
    "\n",
    "    # Calculates the second derivative\n",
    "    tau2 = (6000 * (14 + 0.5 * design[LENGTH]) * math.sqrt(0.25 * (design[LENGTH]**2 + (design[HEIGHT] + design[THICKNESS])**2 ) ) )  \\\n",
    "                        / ( 2 * (0.707 * design[HEIGHT] * design[LENGTH] * ( ( (design[LENGTH] ** 2) / 12) + 0.25 * (design[HEIGHT] + design[THICKNESS])**2 ) ) )\n",
    "    \n",
    "    # Calculates the overall shear stress of the design\n",
    "    tau = math.sqrt( (tau1**2 + tau2**2) + ( (design[LENGTH] * tau1 * tau2) \\\n",
    "           / (math.sqrt(0.25*(design[LENGTH]**2 + (design[HEIGHT] + design[THICKNESS])**2))) ))\n",
    "\n",
    "    global g1_counter\n",
    "    g1_counter += 1\n",
    "    return 13600 - tau"
   ]
  },
  {
   "cell_type": "markdown",
   "metadata": {},
   "source": [
    "### Normal Stress *g<sub>2</sub>(x)*:"
   ]
  },
  {
   "cell_type": "code",
   "execution_count": 265,
   "metadata": {},
   "outputs": [],
   "source": [
    "def normal_stress(design):\n",
    "    # Calculates normal stress of the design\n",
    "    sigma = 504000 / (design[THICKNESS]**2 * design[BREADTH])\n",
    "\n",
    "    global g2_counter\n",
    "    g2_counter += 1\n",
    "    return (30000 - sigma)"
   ]
  },
  {
   "cell_type": "markdown",
   "metadata": {},
   "source": [
    "### Practicality *g<sub>3</sub>(x)*:"
   ]
  },
  {
   "cell_type": "code",
   "execution_count": 266,
   "metadata": {},
   "outputs": [],
   "source": [
    "def practicality(design):\n",
    "    global g3_counter\n",
    "    g3_counter += 1\n",
    "    return (design[BREADTH] - design[HEIGHT])"
   ]
  },
  {
   "cell_type": "markdown",
   "metadata": {},
   "source": [
    "### Buckling Load *g<sub>4</sub>(x)*:"
   ]
  },
  {
   "cell_type": "code",
   "execution_count": 267,
   "metadata": {},
   "outputs": [],
   "source": [
    "def buckling_load(design):\n",
    "    rho = 64746.022 * (1 - 0.0282346 * design[THICKNESS]) * design[THICKNESS] * design[BREADTH]**3\n",
    "\n",
    "    global g4_counter\n",
    "    g4_counter += 1\n",
    "    return (rho - 6000)"
   ]
  },
  {
   "cell_type": "markdown",
   "metadata": {},
   "source": [
    "## Function Validation:\n",
    "\n",
    "This section checks the validity of the constraint functions, using the example input design from the specification."
   ]
  },
  {
   "cell_type": "code",
   "execution_count": 268,
   "metadata": {},
   "outputs": [
    {
     "name": "stdout",
     "output_type": "stream",
     "text": [
      "Objective Function Output:  32.6024179859\n",
      "First constraint function output:  5308.848564674312\n",
      "Second constraint function output:  26736.764990548952\n",
      "Third constraint function output:  6.82\n",
      "Fourth constraint function output:  122317448.61430933\n"
     ]
    }
   ],
   "source": [
    "x = np.array([1.05, 3.15, 4.43, 7.87])\n",
    "\n",
    "print(\"Objective Function Output: \", objective_calc(x))\n",
    "print(\"First constraint function output: \", shear_stress(x))\n",
    "print(\"Second constraint function output: \", normal_stress(x))\n",
    "print(\"Third constraint function output: \", practicality(x))\n",
    "print(\"Fourth constraint function output: \", buckling_load(x))"
   ]
  },
  {
   "cell_type": "code",
   "execution_count": 269,
   "metadata": {},
   "outputs": [
    {
     "name": "stdout",
     "output_type": "stream",
     "text": [
      "Constraint function Execution counts: \n",
      "f: 1, g1: 1, g2: 1, g3: 1, g4: 1\n"
     ]
    }
   ],
   "source": [
    "print_execution_trackers()"
   ]
  },
  {
   "cell_type": "markdown",
   "metadata": {},
   "source": [
    "# Section 2: Random Search"
   ]
  },
  {
   "cell_type": "markdown",
   "metadata": {},
   "source": [
    "This code defines a flexible random search that takes a system of any 4 parameters and 4 constraint functions and returns a system design that approximately minimises the objective value."
   ]
  },
  {
   "cell_type": "code",
   "execution_count": 270,
   "metadata": {},
   "outputs": [],
   "source": [
    "# This function performs random search optimisation using a given seed for number generation, and a given number of samples\n",
    "# Defaults to minimising the given objective function, but this can be changed to maximising by setting 'minimising' to false\n",
    "def random_search(seed, samples, lower, upper, objective, constraint1, constraint2, constraint3, constraint4, minimising=True):\n",
    "    # Initialises algorithm variables\n",
    "    best_design = None\n",
    "    objective_minimum = float('inf')\n",
    "    objective_maximum = float('-inf')\n",
    "\n",
    "    # Creates local random generator to isolate from seed changes in any other code\n",
    "    rng = np.random.default_rng(seed)\n",
    "\n",
    "    for i in range(samples):\n",
    "        curr_design = np.array([\n",
    "            rng.uniform(lower[0], upper[0]),\n",
    "            rng.uniform(lower[1], upper[1]),\n",
    "            rng.uniform(lower[2], upper[2]),\n",
    "            rng.uniform(lower[3], upper[3])\n",
    "            ])\n",
    "\n",
    "        # Combining the constraints in a single evalution reduces unnecessary execution, since after one constraint function returns false, the rest will not execute\n",
    "        if (constraint1(curr_design) >= 0) and (constraint2(curr_design) >= 0) and (constraint3(curr_design) >= 0) and (constraint4(curr_design) >= 0):\n",
    "            curr_result = objective(curr_design)\n",
    "            if minimising and curr_result < objective_minimum:\n",
    "                objective_minimum = curr_result\n",
    "                best_design = curr_design\n",
    "            if not minimising and curr_result > objective_maximum:\n",
    "                objective_maximum = curr_result\n",
    "                best_design = curr_design\n",
    "    if minimising:\n",
    "        return best_design, objective_minimum\n",
    "    else:\n",
    "        return best_design, objective_maximum"
   ]
  },
  {
   "cell_type": "markdown",
   "metadata": {},
   "source": [
    "The following section provides a wrapper function that runs a random search with the parameters from the specification."
   ]
  },
  {
   "cell_type": "code",
   "execution_count": 271,
   "metadata": {},
   "outputs": [],
   "source": [
    "def specification_random_search(seed, samples):\n",
    "    return random_search(seed, samples, DEFAULT_LOWER, DEFAULT_UPPER, objective_calc, shear_stress, normal_stress, practicality, buckling_load)\n"
   ]
  },
  {
   "cell_type": "markdown",
   "metadata": {},
   "source": [
    "# Section 3: Simulated Annealing"
   ]
  },
  {
   "cell_type": "markdown",
   "metadata": {},
   "source": [
    "This section defines an implementation of simulated annealing, along with fast decay, logarithmic decay, and truncated gaussian functions to use with it. "
   ]
  },
  {
   "cell_type": "code",
   "execution_count": 272,
   "metadata": {},
   "outputs": [],
   "source": [
    "def fast_decay(initial_temp, time):\n",
    "    return initial_temp / time\n",
    "\n",
    "def log_decay(initial_temp, time):\n",
    "    return initial_temp * (math.log(2) / math.log(time + 1))"
   ]
  },
  {
   "cell_type": "code",
   "execution_count": 273,
   "metadata": {},
   "outputs": [],
   "source": [
    "def truncated_gaussian(seed, design, lower, upper, step_size):\n",
    "    rng = np.random.default_rng(seed)\n",
    "    new_design = np.array([None,None,None,None])\n",
    "\n",
    "    for i in range(len(design)):\n",
    "        # Selects a random, appropriately bounded, value for the current parameter\n",
    "        new_design[i] = truncnorm.rvs( \n",
    "            (lower[i] - design[i]) / step_size,\n",
    "            (upper[i] - design[i] / step_size),\n",
    "            loc = design[i],\n",
    "            scale = step_size,\n",
    "            random_state = rng\n",
    "            )\n",
    "    return new_design\n",
    "        "
   ]
  },
  {
   "cell_type": "code",
   "execution_count": 274,
   "metadata": {},
   "outputs": [],
   "source": [
    "def simulated_annealing(seed, samples, lower, upper, objective, constraint1, constraint2, constraint3, constraint4, step_size, initial_temp, decay=fast_decay, execution_limit = None):\n",
    "    rng = np.random.default_rng(seed)\n",
    "    execution_count = 0\n",
    "\n",
    "    # This section ensures the initial starting design is valid under the constraint functions\n",
    "    valid_design = False\n",
    "    while not valid_design:\n",
    "        # This check ensures the code does not exceed the execution limits specified for function evaluations\n",
    "        if execution_limit is not None and execution_count >= execution_limit:\n",
    "            break\n",
    "        initial_design = np.array([\n",
    "                rng.uniform(lower[0], upper[0]),\n",
    "                rng.uniform(lower[1], upper[1]),\n",
    "                rng.uniform(lower[2], upper[2]),\n",
    "                rng.uniform(lower[3], upper[3])\n",
    "                ])\n",
    "        if (constraint1(initial_design) >= 0) and (constraint2(initial_design) >= 0) and (constraint3(initial_design) >= 0) and (constraint4(initial_design) >= 0):\n",
    "            best_design = initial_design\n",
    "            valid_design = True\n",
    "        execution_count += 1\n",
    "\n",
    "    objective_min = objective(best_design)\n",
    "\n",
    "    curr_design = best_design\n",
    "    curr_objective = objective(curr_design)\n",
    "\n",
    "    for i in range(1, samples):\n",
    "        if execution_limit is not None and execution_count >= execution_limit:\n",
    "            break\n",
    "        new_design = truncated_gaussian(seed, curr_design, lower, upper, step_size)\n",
    "        new_output = objective(new_design)\n",
    "        objective_change = new_output - curr_objective\n",
    "        if (constraint1(curr_design) >= 0) and (constraint2(curr_design) >= 0) and (constraint3(curr_design) >= 0) and (constraint4(curr_design) >= 0):\n",
    "            if objective_change <= 0 or rng.uniform(0,1) < min(math.exp(-objective_change/decay(initial_temp, i+1)), 1):\n",
    "                curr_design = new_design\n",
    "                curr_objective = new_output\n",
    "            if new_output < objective_min:\n",
    "                best_design = new_design\n",
    "                objective_min = new_output\n",
    "        execution_count += 1\n",
    "    return best_design, objective_min"
   ]
  },
  {
   "cell_type": "markdown",
   "metadata": {},
   "source": [
    "The following code describes a wrapper function to execute simulated annealing using the properties from the problem specification."
   ]
  },
  {
   "cell_type": "code",
   "execution_count": 275,
   "metadata": {},
   "outputs": [],
   "source": [
    "def specification_annealing(seed, samples, step_size, initial_temp, decay = fast_decay, execution_limit = None):\n",
    "    return simulated_annealing(\n",
    "        seed, \n",
    "        samples, \n",
    "        DEFAULT_LOWER, \n",
    "        DEFAULT_UPPER, \n",
    "        objective_calc,\n",
    "        shear_stress, \n",
    "        normal_stress, \n",
    "        practicality, \n",
    "        buckling_load,\n",
    "        step_size,\n",
    "        initial_temp,\n",
    "        decay,\n",
    "        execution_limit\n",
    "        )"
   ]
  },
  {
   "cell_type": "markdown",
   "metadata": {},
   "source": [
    "# Section 4: Optimiser Evaluation"
   ]
  },
  {
   "cell_type": "markdown",
   "metadata": {},
   "source": [
    "This section performs 21 runs of both Random, and Simulated Annealing optimisers, then graphs and evaluates their performance. "
   ]
  },
  {
   "cell_type": "markdown",
   "metadata": {},
   "source": [
    "## Tests"
   ]
  },
  {
   "cell_type": "markdown",
   "metadata": {},
   "source": [
    "For testing and comparing the two functions, we generate 21 random seeds and run Random Search and Simulated Annealing optimisers for the problem using each seed. \n",
    "\n",
    "We store the seeds used, and the resultant objective values and respective designs for each of the optimisers.\n",
    "\n",
    "This allows us to evaluate a typical performance of the optimiser on this particular problem, and monitor how dependent its results are on the input seed that it has been given."
   ]
  },
  {
   "cell_type": "code",
   "execution_count": 276,
   "metadata": {},
   "outputs": [],
   "source": [
    "\n",
    "# These variables store the results of the optimisers over the test runs\n",
    "# They are used to produce plots later\n",
    "NUM_REPEATS = 21\n",
    "NUM_SAMPLES = 1000\n",
    "\n",
    "global test_seeds\n",
    "optimiser_designs_random = [None] * NUM_REPEATS\n",
    "optimiser_results_random = [None] * NUM_REPEATS\n",
    "optimiser_designs_annealing = [None] * NUM_REPEATS\n",
    "optimiser_results_annealing = [None] * NUM_REPEATS"
   ]
  },
  {
   "cell_type": "code",
   "execution_count": 277,
   "metadata": {},
   "outputs": [],
   "source": [
    "def test_loop():\n",
    "    rng = np.random.default_rng()\n",
    "    global NUM_REPEATS\n",
    "    global test_seeds\n",
    "    global optimiser_designs_random\n",
    "    global optimiser_results_random\n",
    "    global optimiser_designs_annealing\n",
    "    global optimiser_results_annealing\n",
    "\n",
    "    test_seeds = rng.integers(low=1, high=10000, size=(NUM_REPEATS,))\n",
    "    print(\"Starting {} tests:\\n\".format(NUM_REPEATS))\n",
    "    for i in range(NUM_REPEATS):\n",
    "        print(\"Test Number: {}, Seed = {}\".format(i+1, test_seeds[i]))\n",
    "        optimiser_designs_random[i], optimiser_results_random[i] = specification_random_search(test_seeds[i], NUM_SAMPLES)\n",
    "\n",
    "        optimiser_designs_annealing[i], optimiser_results_annealing[i] = specification_annealing(\n",
    "            test_seeds[i],\n",
    "            NUM_SAMPLES,\n",
    "            0.03,\n",
    "            2,\n",
    "            fast_decay, \n",
    "            NUM_SAMPLES\n",
    "        )\n",
    "        print(\"Random Best = {}, Simulated Annealing Best = {}\\n\".format(optimiser_results_random[i], optimiser_results_annealing[i]))\n",
    "\n",
    "    print(\"All tests complete with settings: Repeats = {}, Samples = {}\".format(NUM_REPEATS, NUM_SAMPLES))\n"
   ]
  },
  {
   "cell_type": "code",
   "execution_count": 278,
   "metadata": {},
   "outputs": [
    {
     "name": "stdout",
     "output_type": "stream",
     "text": [
      "Starting 21 tests:\n",
      "\n",
      "Test Number: 1, Seed = 6670\n",
      "Random Best = 10.384742683469106, Simulated Annealing Best = 0.06484572795202699\n",
      "\n",
      "Test Number: 2, Seed = 2125\n",
      "Random Best = 7.084970174941036, Simulated Annealing Best = 0.06492341956791182\n",
      "\n",
      "Test Number: 3, Seed = 3034\n",
      "Random Best = 5.159379153159363, Simulated Annealing Best = 0.06491901709025066\n",
      "\n",
      "Test Number: 4, Seed = 8903\n",
      "Random Best = 4.630319226919546, Simulated Annealing Best = 0.06487920834367526\n",
      "\n",
      "Test Number: 5, Seed = 1806\n",
      "Random Best = 5.890927368386009, Simulated Annealing Best = 0.06483445483634266\n",
      "\n",
      "Test Number: 6, Seed = 8371\n",
      "Random Best = 8.336041974817489, Simulated Annealing Best = 0.06496957116781947\n",
      "\n",
      "Test Number: 7, Seed = 1746\n",
      "Random Best = 5.190578652931837, Simulated Annealing Best = 0.06480715192176248\n",
      "\n",
      "Test Number: 8, Seed = 6169\n",
      "Random Best = 8.990436544218552, Simulated Annealing Best = 0.06494278433862004\n",
      "\n",
      "Test Number: 9, Seed = 1307\n",
      "Random Best = 7.939883899873474, Simulated Annealing Best = 0.06493977913323384\n",
      "\n",
      "Test Number: 10, Seed = 3177\n",
      "Random Best = 9.047993902937444, Simulated Annealing Best = 0.06493834875099598\n",
      "\n",
      "Test Number: 11, Seed = 3118\n",
      "Random Best = 8.84282171857917, Simulated Annealing Best = 0.0649475600945149\n",
      "\n",
      "Test Number: 12, Seed = 823\n",
      "Random Best = 5.118642127063028, Simulated Annealing Best = 0.06489800786854805\n",
      "\n",
      "Test Number: 13, Seed = 2946\n",
      "Random Best = 5.02196970292424, Simulated Annealing Best = 0.0648663208668929\n",
      "\n",
      "Test Number: 14, Seed = 3678\n",
      "Random Best = 7.0003111236136775, Simulated Annealing Best = 0.0648904878444757\n",
      "\n",
      "Test Number: 15, Seed = 9931\n",
      "Random Best = 5.5298914423922865, Simulated Annealing Best = 0.06491962361847073\n",
      "\n",
      "Test Number: 16, Seed = 5541\n",
      "Random Best = 4.280224258143634, Simulated Annealing Best = 0.06491823345386298\n",
      "\n",
      "Test Number: 17, Seed = 8319\n",
      "Random Best = 6.533379398003088, Simulated Annealing Best = 0.06477671154537341\n",
      "\n",
      "Test Number: 18, Seed = 2186\n",
      "Random Best = 10.144375113925033, Simulated Annealing Best = 0.06488095249816517\n",
      "\n",
      "Test Number: 19, Seed = 5058\n",
      "Random Best = 6.50781609675748, Simulated Annealing Best = 0.06483692530280172\n",
      "\n",
      "Test Number: 20, Seed = 1876\n",
      "Random Best = 6.410154500868526, Simulated Annealing Best = 0.06488181173794413\n",
      "\n",
      "Test Number: 21, Seed = 5862\n",
      "Random Best = 6.9036083302602425, Simulated Annealing Best = 0.06489944454161031\n",
      "\n",
      "All tests complete with settings: Repeats = 21, Samples = 1000\n"
     ]
    }
   ],
   "source": [
    "test_loop()"
   ]
  },
  {
   "cell_type": "markdown",
   "metadata": {},
   "source": [
    "Now that the test results are complete, we can plot them to evaluate performance between the optimisers."
   ]
  },
  {
   "cell_type": "markdown",
   "metadata": {},
   "source": [
    "## Plotting the Results"
   ]
  },
  {
   "cell_type": "markdown",
   "metadata": {},
   "source": [
    "I have generated two boxplots for the two datasets generated by the test. \n",
    "\n",
    "One shows the results of simulated annealing and random search on a shared set of axis, for easier comparison. \n",
    "The second shows simulated annealing on its own, for a more detailed view, since the difference in the scale of the results between the two methods makes it difficult to read in the first plot. "
   ]
  },
  {
   "cell_type": "code",
   "execution_count": 279,
   "metadata": {},
   "outputs": [
    {
     "name": "stderr",
     "output_type": "stream",
     "text": [
      "C:\\Users\\clone\\AppData\\Local\\Temp\\ipykernel_28340\\1996087915.py:4: UserWarning: Matplotlib is currently using module://matplotlib_inline.backend_inline, which is a non-GUI backend, so cannot show the figure.\n",
      "  fig.show()\n"
     ]
    },
    {
     "data": {
      "image/png": "[encoded data removed]",
      "text/plain": [
       "<Figure size 1000x500 with 2 Axes>"
      ]
     },
     "metadata": {},
     "output_type": "display_data"
    }
   ],
   "source": [
    "fig, axes = plt.subplots(ncols=2, sharey=False, figsize=(10, 5))\n",
    "axes[0].boxplot(list([optimiser_results_annealing, optimiser_results_random]), labels=[\"Simulated Annealing\", \"Random Search\"])\n",
    "axes[1].boxplot(optimiser_results_annealing, labels=[\"Simulated Annealing (Detailed View)\"])\n",
    "fig.show()"
   ]
  },
  {
   "cell_type": "markdown",
   "metadata": {},
   "source": [
    "## Statistical Evaluation"
   ]
  },
  {
   "cell_type": "code",
   "execution_count": 280,
   "metadata": {},
   "outputs": [
    {
     "name": "stdout",
     "output_type": "stream",
     "text": [
      "Statistical Results:\n",
      "\n",
      "Simulated Annealing Mean Objective = 0.06489121630834757\n",
      "Random Search Mean Objective = 6.9023079711516315\n",
      "Mean Improvement of Simulated Annealing over Random Search = 6.837416754843283\n",
      "Simulated Annealing as a percentage of Random Search: 0.9401379448665872%\n",
      "\n",
      "Simulated Annealing Variance: 2.3518511448373526e-09\n",
      "Random Search Variance: 3.176471294145885\n"
     ]
    }
   ],
   "source": [
    "# This array stores the difference in objective scores between the random, simulated annealing methods across all 21 tests\n",
    "objective_delta = np.subtract(\n",
    "    optimiser_results_random, optimiser_results_annealing\n",
    ")\n",
    "\n",
    "annealing_mean = np.mean(optimiser_results_annealing)\n",
    "random_mean = np.mean(optimiser_results_random)\n",
    "delta_mean = np.mean(objective_delta)\n",
    "print(\"Statistical Results:\\n\")\n",
    "print(\n",
    "    \"Simulated Annealing Mean Objective = {}\\nRandom Search Mean Objective = {}\\nMean Improvement of Simulated Annealing over Random Search = {}\"\n",
    "    .format(annealing_mean, random_mean, delta_mean)\n",
    ")\n",
    "print(\"Simulated Annealing as a percentage of Random Search: {}%\\n\".format((annealing_mean/random_mean) * 100))\n",
    "\n",
    "print(\n",
    "    \"Simulated Annealing Variance: {}\\nRandom Search Variance: {}\"\n",
    "    .format(np.var(optimiser_results_annealing), np.var(optimiser_results_random))\n",
    "    )"
   ]
  },
  {
   "cell_type": "markdown",
   "metadata": {},
   "source": [
    "These results clearly show that Simulated Annealing is a significantly better optimisation approach for this problem than Random Search is, especially at a relatively low number of samples. \n",
    "\n",
    "Simulated Annealing produces much better results for minimising the objective function, with an average objective function value less than 1% of that of Random Search. <br>\n",
    "Additionally, Simulated Annealing produces much more consistent result regardless of the input seed than Random Search does at the same number of samples, with a variance nine orders of magnitude lower than the variance for random search.\n",
    "\n",
    "It is worth considering that a Random Search algorithm may be able to execute with a higher samples value within the same time as a Simulated Annealing function with a lower sample number, however, overall Simulated Annealing appears to deliver a much more optimal and reliable solution to the problem situation. "
   ]
  },
  {
   "cell_type": "markdown",
   "metadata": {},
   "source": [
    "## Some comments on Hyper-parameters\n"
   ]
  },
  {
   "cell_type": "markdown",
   "metadata": {},
   "source": [
    "Decay:<br>\n",
    "I chose to test with fast and logarithmic decay functions. \n",
    "I found that fast decay typically generated superior results, at least with the relatively low sample numbers that I chose to use. \n",
    "\n",
    "Step Size:<br>\n",
    "I found that lower step sizes yielded better significantly results, with higher step values causing the simulated annealing to get stuck at much less optimal solutions.\n",
    "\n",
    "Initial Temperature:<br>\n",
    "I didn't find that changing initial temperature had a significant effect on the results.\n",
    "\n",
    "Samples:<br>\n",
    "Generally I found that changing the number of samples used has a much greater effect on random search than on simulated annealing. This is to be expected, since simulated annealing tends towards more subtle, incremental improvements over time, causing improvement to slow, while random search still has a chance of significant improvement."
   ]
  }
 ],
 "metadata": {
  "kernelspec": {
   "display_name": "Python 3.10.0 64-bit",
   "language": "python",
   "name": "python3"
  },
  "language_info": {
   "codemirror_mode": {
    "name": "ipython",
    "version": 3
   },
   "file_extension": ".py",
   "mimetype": "text/x-python",
   "name": "python",
   "nbconvert_exporter": "python",
   "pygments_lexer": "ipython3",
   "version": "3.10.0"
  },
  "orig_nbformat": 4,
  "vscode": {
   "interpreter": {
    "hash": "8a91cadc413235d5a11ea792150f74c4489a7c2da9dcddc3b888b562aafcd7e7"
   }
  }
 },
 "nbformat": 4,
 "nbformat_minor": 2
}
